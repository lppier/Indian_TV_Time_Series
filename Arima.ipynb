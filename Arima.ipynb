{
 "cells": [
  {
   "cell_type": "markdown",
   "metadata": {},
   "source": [
    "# ARIMA"
   ]
  },
  {
   "cell_type": "code",
   "execution_count": 1,
   "metadata": {},
   "outputs": [
    {
     "data": {
      "text/plain": [
       "<Figure size 1600x900 with 1 Axes>"
      ]
     },
     "metadata": {},
     "output_type": "display_data"
    },
    {
     "data": {
      "text/html": [
       "<div>\n",
       "<style scoped>\n",
       "    .dataframe tbody tr th:only-of-type {\n",
       "        vertical-align: middle;\n",
       "    }\n",
       "\n",
       "    .dataframe tbody tr th {\n",
       "        vertical-align: top;\n",
       "    }\n",
       "\n",
       "    .dataframe thead th {\n",
       "        text-align: right;\n",
       "    }\n",
       "</style>\n",
       "<table border=\"1\" class=\"dataframe\">\n",
       "  <thead>\n",
       "    <tr style=\"text-align: right;\">\n",
       "      <th></th>\n",
       "      <th>GRP</th>\n",
       "    </tr>\n",
       "    <tr>\n",
       "      <th>GRPRatingsDate</th>\n",
       "      <th></th>\n",
       "    </tr>\n",
       "  </thead>\n",
       "  <tbody>\n",
       "    <tr>\n",
       "      <th>2009-02-15</th>\n",
       "      <td>204.20</td>\n",
       "    </tr>\n",
       "    <tr>\n",
       "      <th>2009-02-22</th>\n",
       "      <td>200.61</td>\n",
       "    </tr>\n",
       "    <tr>\n",
       "      <th>2009-03-01</th>\n",
       "      <td>208.56</td>\n",
       "    </tr>\n",
       "    <tr>\n",
       "      <th>2009-03-08</th>\n",
       "      <td>191.74</td>\n",
       "    </tr>\n",
       "    <tr>\n",
       "      <th>2009-03-15</th>\n",
       "      <td>222.07</td>\n",
       "    </tr>\n",
       "  </tbody>\n",
       "</table>\n",
       "</div>"
      ],
      "text/plain": [
       "                   GRP\n",
       "GRPRatingsDate        \n",
       "2009-02-15      204.20\n",
       "2009-02-22      200.61\n",
       "2009-03-01      208.56\n",
       "2009-03-08      191.74\n",
       "2009-03-15      222.07"
      ]
     },
     "execution_count": 1,
     "metadata": {},
     "output_type": "execute_result"
    }
   ],
   "source": [
    "import pandas as pd\n",
    "import matplotlib.pyplot as plt\n",
    "from statsmodels.tsa.seasonal import seasonal_decompose\n",
    "import os\n",
    "import matplotlib\n",
    "from sklearn.metrics import mean_absolute_error, mean_squared_error\n",
    "import numpy as np\n",
    "import math\n",
    "import numpy as np\n",
    "import statsmodels.api as sm\n",
    "import itertools\n",
    "import sys\n",
    "from pyramid.arima import auto_arima\n",
    "\n",
    "def mean_absolute_percentage_error(y_true, y_pred):\n",
    "    y_true, y_pred = np.array(y_true), np.array(y_pred)\n",
    "    return np.mean(np.abs((y_true - y_pred) / y_true)) * 100\n",
    "\n",
    "\n",
    "os.chdir('/Users/pierlim/PycharmProjects/IndianTV')\n",
    "df = pd.read_csv(\"./data/ActualRatings_weeklyGRP.csv\")\n",
    "df = df.drop(df.columns[2], axis=1)\n",
    "split_str = df['GRPRatingsDate'].str.split('(')\n",
    "df['GRPRatingsDate'] = split_str.str[0]\n",
    "df['GRPRatingsDate'] = pd.to_datetime(df['GRPRatingsDate'])\n",
    "\n",
    "df = df.set_index('GRPRatingsDate')\n",
    "df.plot(style='.-', figsize=(16, 9))\n",
    "plt.title('Weekly Ratings 2007 - 2009')\n",
    "plt.show()\n",
    "df.tail()"
   ]
  },
  {
   "cell_type": "code",
   "execution_count": null,
   "metadata": {},
   "outputs": [],
   "source": []
  },
  {
   "cell_type": "code",
   "execution_count": 2,
   "metadata": {},
   "outputs": [
    {
     "name": "stdout",
     "output_type": "stream",
     "text": [
      "                   GRP\n",
      "GRPRatingsDate        \n",
      "2008-09-28      219.91\n",
      "2008-10-05      193.84\n",
      "2008-10-12      201.30\n",
      "2008-10-19      198.40\n",
      "2008-10-26      170.74\n",
      "(72, 1)\n",
      "                   GRP\n",
      "GRPRatingsDate        \n",
      "2008-11-02      206.61\n",
      "2008-11-09      188.68\n",
      "2008-11-16      197.64\n",
      "2008-11-23      193.16\n",
      "2008-11-30      184.74\n",
      "(20, 1)\n"
     ]
    }
   ],
   "source": [
    "# log transform\n",
    "#df = df['GRP'].apply(np.log)\n",
    "\n",
    "# Get train test\n",
    "df_train = df[:'2008-10-26']\n",
    "print(df_train.tail())\n",
    "print(df_train.shape)\n",
    "\n",
    "df_test = df['2008-11-1':]\n",
    "print(df_test.head())\n",
    "print(df_test.shape)\n"
   ]
  },
  {
   "cell_type": "code",
   "execution_count": 3,
   "metadata": {},
   "outputs": [
    {
     "name": "stdout",
     "output_type": "stream",
     "text": [
      "                   GRP\n",
      "GRPRatingsDate        \n",
      "2007-06-17      243.60\n",
      "2007-06-24      263.19\n",
      "2007-07-01      269.89\n",
      "2007-07-08      252.88\n",
      "2007-07-15      303.46\n",
      "2007-07-22      286.29\n",
      "2007-07-29      292.28\n",
      "2007-08-05      288.72\n",
      "2007-08-12      285.70\n",
      "2007-08-19      286.01\n",
      "2007-08-26      308.59\n",
      "2007-09-02      320.57\n",
      "2007-09-09      312.67\n",
      "2007-09-16      278.58\n",
      "2007-09-23      303.06\n",
      "2007-09-30      327.22\n",
      "2007-10-07      315.14\n",
      "2007-10-14      254.39\n",
      "2007-10-21      258.73\n",
      "2007-10-28      272.35\n",
      "2007-11-04      234.26\n",
      "2007-11-11      259.35\n",
      "2007-11-18      272.67\n",
      "2007-11-25      269.03\n",
      "2007-12-02      291.72\n",
      "2007-12-09      275.29\n",
      "2007-12-16      276.38\n",
      "2007-12-23      274.68\n",
      "2007-12-30      273.70\n",
      "2008-01-06      271.84\n",
      "...                ...\n",
      "2008-08-24      205.17\n",
      "2008-08-31      195.25\n",
      "2008-09-07      212.45\n",
      "2008-09-14      232.21\n",
      "2008-09-21      236.31\n",
      "2008-09-28      219.91\n",
      "2008-10-05      193.84\n",
      "2008-10-12      201.30\n",
      "2008-10-19      198.40\n",
      "2008-10-26      170.74\n",
      "2008-11-02      206.61\n",
      "2008-11-09      188.68\n",
      "2008-11-16      197.64\n",
      "2008-11-23      193.16\n",
      "2008-11-30      184.74\n",
      "2008-12-07      188.88\n",
      "2008-12-14      224.85\n",
      "2008-12-21      186.91\n",
      "2008-12-28      192.65\n",
      "2009-01-04      200.88\n",
      "2009-01-11      198.88\n",
      "2009-01-18      227.61\n",
      "2009-01-25      214.15\n",
      "2009-02-01      191.91\n",
      "2009-02-08      208.17\n",
      "2009-02-15      204.20\n",
      "2009-02-22      200.61\n",
      "2009-03-01      208.56\n",
      "2009-03-08      191.74\n",
      "2009-03-15      222.07\n",
      "\n",
      "[92 rows x 1 columns]\n"
     ]
    }
   ],
   "source": [
    "print(df)\n"
   ]
  },
  {
   "cell_type": "markdown",
   "metadata": {},
   "source": [
    "## Auto-arima"
   ]
  },
  {
   "cell_type": "code",
   "execution_count": 62,
   "metadata": {},
   "outputs": [
    {
     "name": "stdout",
     "output_type": "stream",
     "text": [
      "               GRP\n",
      "2007-06-17  243.60\n",
      "2007-06-24  263.19\n",
      "2007-07-01  269.89\n",
      "2007-07-08  252.88\n",
      "2007-07-15  303.46\n",
      "Fit ARIMA: order=(1, 1, 1); AIC=616.870, BIC=625.921, Fit time=0.068 seconds\n",
      "Fit ARIMA: order=(0, 1, 0); AIC=621.776, BIC=626.302, Fit time=0.003 seconds\n",
      "Fit ARIMA: order=(1, 1, 0); AIC=620.114, BIC=626.902, Fit time=0.016 seconds\n",
      "Fit ARIMA: order=(0, 1, 1); AIC=616.933, BIC=623.721, Fit time=0.019 seconds\n",
      "Fit ARIMA: order=(2, 1, 1); AIC=617.426, BIC=628.740, Fit time=0.055 seconds\n",
      "Fit ARIMA: order=(1, 1, 2); AIC=618.110, BIC=629.423, Fit time=0.101 seconds\n",
      "Fit ARIMA: order=(2, 1, 2); AIC=619.018, BIC=632.594, Fit time=0.095 seconds\n",
      "Total fit time: 0.358 seconds\n",
      "                             ARIMA Model Results                              \n",
      "==============================================================================\n",
      "Dep. Variable:                    D.y   No. Observations:                   71\n",
      "Model:                 ARIMA(1, 1, 1)   Log Likelihood                -304.435\n",
      "Method:                       css-mle   S.D. of innovations             17.279\n",
      "Date:                Sun, 09 Sep 2018   AIC                            616.870\n",
      "Time:                        09:44:32   BIC                            625.921\n",
      "Sample:                             1   HQIC                           620.469\n",
      "                                                                              \n",
      "==============================================================================\n",
      "                 coef    std err          z      P>|z|      [0.025      0.975]\n",
      "------------------------------------------------------------------------------\n",
      "const         -1.3463      0.266     -5.067      0.000      -1.867      -0.826\n",
      "ar.L1.D.y      0.6576      0.104      6.300      0.000       0.453       0.862\n",
      "ma.L1.D.y     -1.0000      0.054    -18.526      0.000      -1.106      -0.894\n",
      "                                    Roots                                    \n",
      "=============================================================================\n",
      "                  Real          Imaginary           Modulus         Frequency\n",
      "-----------------------------------------------------------------------------\n",
      "AR.1            1.5206           +0.0000j            1.5206            0.0000\n",
      "MA.1            1.0000           +0.0000j            1.0000            0.0000\n",
      "-----------------------------------------------------------------------------\n"
     ]
    }
   ],
   "source": [
    "print(df_train.head())\n",
    "stepwise_fit = auto_arima(df_train, start_p=1, start_q=1, max_p=3, max_q=3, m=12,\n",
    "                          start_P=0, seasonal=False, d=1, D=1, trace=True,\n",
    "                          error_action='ignore',  # don't want to know if an order does not work\n",
    "                          suppress_warnings=True,  # don't want convergence warnings\n",
    "                          stepwise=True, n_fits=100)  # set to stepwise\n",
    "\n",
    "print(stepwise_fit.summary())\n"
   ]
  },
  {
   "cell_type": "code",
   "execution_count": 63,
   "metadata": {},
   "outputs": [],
   "source": [
    "\n",
    "future_forecast = stepwise_fit.predict(n_periods=20)\n",
    "df_forecast = pd.DataFrame(future_forecast, index=df_test.index)\n",
    "df_forecast = df_forecast.rename(columns={ df_forecast.columns[0]: \"forecast\" })\n",
    "#pd.concat([df, df_forecast], axis=1).plot()"
   ]
  },
  {
   "cell_type": "code",
   "execution_count": 64,
   "metadata": {},
   "outputs": [
    {
     "data": {
      "text/html": [
       "<div>\n",
       "<style scoped>\n",
       "    .dataframe tbody tr th:only-of-type {\n",
       "        vertical-align: middle;\n",
       "    }\n",
       "\n",
       "    .dataframe tbody tr th {\n",
       "        vertical-align: top;\n",
       "    }\n",
       "\n",
       "    .dataframe thead th {\n",
       "        text-align: right;\n",
       "    }\n",
       "</style>\n",
       "<table border=\"1\" class=\"dataframe\">\n",
       "  <thead>\n",
       "    <tr style=\"text-align: right;\">\n",
       "      <th></th>\n",
       "      <th>forecast</th>\n",
       "    </tr>\n",
       "    <tr>\n",
       "      <th>GRPRatingsDate</th>\n",
       "      <th></th>\n",
       "    </tr>\n",
       "  </thead>\n",
       "  <tbody>\n",
       "    <tr>\n",
       "      <th>2009-02-15</th>\n",
       "      <td>181.173193</td>\n",
       "    </tr>\n",
       "    <tr>\n",
       "      <th>2009-02-22</th>\n",
       "      <td>179.840303</td>\n",
       "    </tr>\n",
       "    <tr>\n",
       "      <th>2009-03-01</th>\n",
       "      <td>178.502823</td>\n",
       "    </tr>\n",
       "    <tr>\n",
       "      <th>2009-03-08</th>\n",
       "      <td>177.162323</td>\n",
       "    </tr>\n",
       "    <tr>\n",
       "      <th>2009-03-15</th>\n",
       "      <td>175.819837</td>\n",
       "    </tr>\n",
       "  </tbody>\n",
       "</table>\n",
       "</div>"
      ],
      "text/plain": [
       "                  forecast\n",
       "GRPRatingsDate            \n",
       "2009-02-15      181.173193\n",
       "2009-02-22      179.840303\n",
       "2009-03-01      178.502823\n",
       "2009-03-08      177.162323\n",
       "2009-03-15      175.819837"
      ]
     },
     "execution_count": 64,
     "metadata": {},
     "output_type": "execute_result"
    }
   ],
   "source": [
    "df_forecast.tail()"
   ]
  },
  {
   "cell_type": "code",
   "execution_count": 65,
   "metadata": {},
   "outputs": [
    {
     "name": "stdout",
     "output_type": "stream",
     "text": [
      "Prediction quality: 485.51 MSE (22.03 RMSE),  (17.55 MAE)\n",
      "Prediction quality: 8.37% MAPE \n"
     ]
    }
   ],
   "source": [
    "# Test metrics\n",
    "mae = mean_absolute_error(df_test['GRP'], df_forecast['forecast'])\n",
    "mse = mean_squared_error(df_test['GRP'], df_forecast['forecast'])\n",
    "print('Prediction quality: {:.2f} MSE ({:.2f} RMSE),  ({:.2f} MAE)'.format(mse, math.sqrt(mse), mae))\n",
    "mape = mean_absolute_percentage_error(df_test['GRP'], df_forecast['forecast'])\n",
    "print('Prediction quality: {:.2f}% MAPE '.format(mape))"
   ]
  },
  {
   "cell_type": "markdown",
   "metadata": {},
   "source": [
    "## Use the statesspace model to get a nicer graph, and confidence intervals"
   ]
  },
  {
   "cell_type": "code",
   "execution_count": 97,
   "metadata": {},
   "outputs": [],
   "source": [
    "df_train.index = pd.DatetimeIndex(df_train.index.values,\n",
    "                               freq=df_train.index.inferred_freq)\n",
    "\n",
    "\n",
    "test_model = sm.tsa.statespace.SARIMAX(df_train, order=(1,1,1), enforce_stationarity=True)\n",
    "results = test_model.fit()\n",
    "pred = results.get_prediction(start=pd.to_datetime('2008-11-02'), end=pd.to_datetime('2009-03-15 '), dynamic=True)\n",
    "pred_ci = pred.conf_int()"
   ]
  },
  {
   "cell_type": "markdown",
   "metadata": {},
   "source": [
    "Observation : There is still some seasonality observed in the standardized residual. "
   ]
  },
  {
   "cell_type": "code",
   "execution_count": 98,
   "metadata": {},
   "outputs": [
    {
     "name": "stdout",
     "output_type": "stream",
     "text": [
      "2008-11-02    181.379676\n",
      "2008-11-09    183.927966\n",
      "2008-11-16    184.538302\n",
      "2008-11-23    184.684483\n",
      "2008-11-30    184.719494\n",
      "2008-12-07    184.727880\n",
      "2008-12-14    184.729888\n",
      "2008-12-21    184.730369\n",
      "2008-12-28    184.730484\n",
      "2009-01-04    184.730512\n",
      "2009-01-11    184.730519\n",
      "2009-01-18    184.730520\n",
      "2009-01-25    184.730521\n",
      "2009-02-01    184.730521\n",
      "2009-02-08    184.730521\n",
      "2009-02-15    184.730521\n",
      "2009-02-22    184.730521\n",
      "2009-03-01    184.730521\n",
      "2009-03-08    184.730521\n",
      "2009-03-15    184.730521\n",
      "Freq: W-SUN, dtype: float64\n"
     ]
    }
   ],
   "source": [
    "pred = results.get_prediction(start=pd.to_datetime('2008-11-02'), end=pd.to_datetime('2009-03-15 '), dynamic=True)\n",
    "pred_ci = pred.conf_int()\n",
    "print(pred.predicted_mean)"
   ]
  },
  {
   "cell_type": "code",
   "execution_count": 99,
   "metadata": {},
   "outputs": [
    {
     "name": "stdout",
     "output_type": "stream",
     "text": [
      "Prediction quality: 450.28 MSE (21.22 RMSE),  (17.13 MAE)\n",
      "Prediction quality: 8.16% MAPE \n"
     ]
    }
   ],
   "source": [
    "mae = mean_absolute_error(df_test['GRP'], pred.predicted_mean)\n",
    "mse = mean_squared_error(df_test['GRP'], pred.predicted_mean)\n",
    "print('Prediction quality: {:.2f} MSE ({:.2f} RMSE),  ({:.2f} MAE)'.format(mse, math.sqrt(mse), mae))\n",
    "mape = mean_absolute_percentage_error(df_test['GRP'], pred.predicted_mean)\n",
    "print('Prediction quality: {:.2f}% MAPE '.format(mape))"
   ]
  },
  {
   "cell_type": "code",
   "execution_count": 100,
   "metadata": {},
   "outputs": [
    {
     "data": {
      "image/png": "[encoded data removed]",
      "text/plain": [
       "<Figure size 432x288 with 1 Axes>"
      ]
     },
     "metadata": {},
     "output_type": "display_data"
    }
   ],
   "source": [
    "ax = df['2007-6-17':].plot(label='Observed', color='#006699')\n",
    "pred.predicted_mean.plot(ax=ax, label='One-step Ahead Prediction', alpha=.7, color='#ff0066');\n",
    "# draw confidence bound (gray)\n",
    "ax.fill_between(pred_ci.index, \n",
    "                pred_ci.iloc[:, 0], \n",
    "                pred_ci.iloc[:, 1], color='#ff0066', alpha=.25);\n",
    "ax.fill_betweenx(ax.get_ylim(), pd.to_datetime('2008-11-02'), df.index[-1], alpha=.15, zorder=-1, color='grey');\n",
    "ax.set_xlabel('GRPRatingsDate')\n",
    "ax.set_ylabel('GRP')\n",
    "plt.legend(loc='lower left')\n",
    "plt.show()\n"
   ]
  },
  {
   "cell_type": "code",
   "execution_count": 108,
   "metadata": {},
   "outputs": [
    {
     "data": {
      "text/plain": [
       "<bound method MLEModel.score of <statsmodels.tsa.statespace.sarimax.SARIMAX object at 0x106d06b70>>"
      ]
     },
     "execution_count": 108,
     "metadata": {},
     "output_type": "execute_result"
    }
   ],
   "source": [
    "test_mode"
   ]
  },
  {
   "cell_type": "markdown",
   "metadata": {},
   "source": [
    "## Seasonal model with statespace to get graph"
   ]
  },
  {
   "cell_type": "code",
   "execution_count": 70,
   "metadata": {},
   "outputs": [],
   "source": [
    "df_train.index = pd.DatetimeIndex(df_train.index.values,\n",
    "                               freq=df_train.index.inferred_freq)\n",
    "\n",
    "test_model = sm.tsa.statespace.SARIMAX(df_train, order=(0, 1, 3), seasonal_order=(0, 1, 1, 12))\n",
    "results = test_model.fit()\n",
    "pred = results.get_prediction(start=pd.to_datetime('2008-11-02'), end=pd.to_datetime('2009-03-15 '), dynamic=True)\n",
    "pred_ci = pred.conf_int()"
   ]
  },
  {
   "cell_type": "code",
   "execution_count": 71,
   "metadata": {},
   "outputs": [
    {
     "name": "stdout",
     "output_type": "stream",
     "text": [
      "Prediction quality: 2358.79 MSE (48.57 RMSE),  (45.14 MAE)\n",
      "Prediction quality: 22.02% MAPE \n"
     ]
    }
   ],
   "source": [
    "mae = mean_absolute_error(df_test['GRP'], pred.predicted_mean)\n",
    "mse = mean_squared_error(df_test['GRP'], pred.predicted_mean)\n",
    "print('Prediction quality: {:.2f} MSE ({:.2f} RMSE),  ({:.2f} MAE)'.format(mse, math.sqrt(mse), mae))\n",
    "mape = mean_absolute_percentage_error(df_test['GRP'], pred.predicted_mean)\n",
    "print('Prediction quality: {:.2f}% MAPE '.format(mape))"
   ]
  },
  {
   "cell_type": "code",
   "execution_count": 72,
   "metadata": {},
   "outputs": [
    {
     "data": {
      "image/png": "[encoded data removed]",
      "text/plain": [
       "<Figure size 432x288 with 1 Axes>"
      ]
     },
     "metadata": {},
     "output_type": "display_data"
    }
   ],
   "source": [
    "ax = df['2007-6-17':].plot(label='Observed', color='#006699')\n",
    "pred.predicted_mean.plot(ax=ax, label='One-step Ahead Prediction', alpha=.7, color='#ff0066');\n",
    "# draw confidence bound (gray)\n",
    "ax.fill_between(pred_ci.index, \n",
    "                pred_ci.iloc[:, 0], \n",
    "                pred_ci.iloc[:, 1], color='#ff0066', alpha=.25);\n",
    "ax.fill_betweenx(ax.get_ylim(), pd.to_datetime('2008-11-02'), df.index[-1], alpha=.15, zorder=-1, color='grey');\n",
    "ax.set_xlabel('GRPRatingsDate')\n",
    "ax.set_ylabel('GRP')\n",
    "plt.legend(loc='lower left')\n",
    "plt.show()\n"
   ]
  },
  {
   "cell_type": "code",
   "execution_count": null,
   "metadata": {},
   "outputs": [],
   "source": []
  }
 ],
 "metadata": {
  "kernelspec": {
   "display_name": "Python [default]",
   "language": "python",
   "name": "python3"
  },
  "language_info": {
   "codemirror_mode": {
    "name": "ipython",
    "version": 3
   },
   "file_extension": ".py",
   "mimetype": "text/x-python",
   "name": "python",
   "nbconvert_exporter": "python",
   "pygments_lexer": "ipython3",
   "version": "3.6.1"
  }
 },
 "nbformat": 4,
 "nbformat_minor": 2
}
