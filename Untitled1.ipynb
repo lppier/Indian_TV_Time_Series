{
 "cells": [
  {
   "cell_type": "code",
   "execution_count": 1,
   "metadata": {},
   "outputs": [
    {
     "name": "stdout",
     "output_type": "stream",
     "text": [
      "date: 15/7/07 error 15.06459523495682\n",
      "date: 14/10/07 error 21.666135304060713\n",
      "date: 21/10/07 error 13.234467243844941\n",
      "date: 4/11/07 error 19.352152821651135\n",
      "date: 27/1/08 error 10.989918785427795\n",
      "date: 2/3/08 error 20.489936022545614\n",
      "date: 23/3/08 error 11.377755276715988\n",
      "date: 30/3/08 error 12.056917935227924\n",
      "date: 6/4/08 error 18.513126072202844\n",
      "date: 5/10/08 error 14.29422307057368\n",
      "date: 26/10/08 error 20.814347663113487\n",
      "Prediction quality: 371.66 MSE (19.28 RMSE),  (14.58 MAE)\n",
      "Prediction quality: 5.96% MAPE \n"
     ]
    }
   ],
   "source": [
    "import pandas as pd\n",
    "import matplotlib.pyplot as plt\n",
    "from statsmodels.tsa.seasonal import seasonal_decompose\n",
    "import os\n",
    "from sklearn.metrics import mean_absolute_error, mean_squared_error\n",
    "import numpy as np\n",
    "import math\n",
    "\n",
    "\n",
    "def mean_absolute_percentage_error(y_true, y_pred):\n",
    "    y_true, y_pred = np.array(y_true), np.array(y_pred)\n",
    "    return np.mean(np.abs((y_true - y_pred) / y_true)) * 100\n",
    "\n",
    "\n",
    "def find_more_than_10_percent(data):\n",
    "    for index, row in data.iterrows():\n",
    "        percentage_error = (abs(row['Predicted GRP'] - row['Actual GRP']) / row['Actual GRP']) * 100\n",
    "        if percentage_error > 10.0:\n",
    "            print(\"date: {0} error {1}\".format(row['GRPRatingsDate'], percentage_error))\n",
    "\n",
    "\n",
    "\n",
    "\n",
    "os.chdir('/Users/pierlim/PycharmProjects/IndianTV')\n",
    "df = pd.read_csv(\"./data/simple_exp_train.csv\")\n",
    "# df_train = df.dropna()\n",
    "find_more_than_10_percent(df)\n",
    "df = df.dropna()\n",
    "mae = mean_absolute_error(df['Actual GRP'], df['Predicted GRP'])\n",
    "mse = mean_squared_error(df['Actual GRP'], df['Predicted GRP'])\n",
    "print('Prediction quality: {:.2f} MSE ({:.2f} RMSE),  ({:.2f} MAE)'.format(mse, math.sqrt(mse), mae))\n",
    "mape = mean_absolute_percentage_error(df['Actual GRP'], df['Predicted GRP'])\n",
    "print('Prediction quality: {:.2f}% MAPE '.format(mape))\n"
   ]
  },
  {
   "cell_type": "code",
   "execution_count": null,
   "metadata": {},
   "outputs": [],
   "source": []
  }
 ],
 "metadata": {
  "kernelspec": {
   "display_name": "Python [conda env:tensorflow]",
   "language": "python",
   "name": "conda-env-tensorflow-py"
  },
  "language_info": {
   "codemirror_mode": {
    "name": "ipython",
    "version": 3
   },
   "file_extension": ".py",
   "mimetype": "text/x-python",
   "name": "python",
   "nbconvert_exporter": "python",
   "pygments_lexer": "ipython3",
   "version": "3.6.1"
  }
 },
 "nbformat": 4,
 "nbformat_minor": 2
}
